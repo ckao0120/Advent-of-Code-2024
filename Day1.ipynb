{
 "cells": [
  {
   "cell_type": "code",
   "execution_count": 2,
   "id": "845b13f1-162e-4712-ad40-c1dcb2062deb",
   "metadata": {},
   "outputs": [
    {
     "data": {
      "text/plain": [
       "1530215"
      ]
     },
     "execution_count": 2,
     "metadata": {},
     "output_type": "execute_result"
    }
   ],
   "source": [
    "######## Part 1 #############\n",
    "\n",
    "day1_input = open('day1_input.txt')\n",
    "\n",
    "# Define left list and right list\n",
    "left_list = []\n",
    "right_list = []\n",
    "\n",
    "# Put indexes into right list and left list\n",
    "for line in day1_input:\n",
    "    line = line.rstrip('\\n')\n",
    "    indexes = line.split()\n",
    "    left_list.append(indexes[0])\n",
    "    right_list.append(indexes[1])\n",
    "\n",
    "# Ensure left list and right list have same number of indexes\n",
    "def compare_list_length(list_one, list_two):\n",
    "    if len(list_one) == len(list_two):\n",
    "        return None\n",
    "    elif len(list_one) > len(list_two):\n",
    "        print('Left list has more indexes than right list')\n",
    "    else:\n",
    "        print('Right list has more indexes than left list')\n",
    "\n",
    "compare_list_length(left_list, right_list)\n",
    "\n",
    "# Sort the indexes in the list from smallest to largest\n",
    "left_list.sort()\n",
    "right_list.sort()\n",
    "\n",
    "# Define a function for calculating the difference between pair of numbers and put them into a list\n",
    "def calculate_distance(list_one, list_two):\n",
    "    distance_list = []\n",
    "    for number in range(len(list_one)):\n",
    "        distance = abs(int(list_one[number]) -int(list_two[number]))\n",
    "        distance_list.append(distance)\n",
    "    return distance_list\n",
    "\n",
    "# Define a function for calculating the sum of the difference in distance\n",
    "def calculate_total_distance(distance_difference):\n",
    "    return sum(distance_difference)\n",
    "\n",
    "# Calculate the difference between distance pairs and put the list into a variable\n",
    "distances = calculate_distance(left_list, right_list)\n",
    "\n",
    "# Calculate the total distance\n",
    "calculate_total_distance(distances)\n",
    "\n",
    "#print('list 1: ' + str(left_list))\n",
    "#print('list 2: ' + str(right_list))"
   ]
  },
  {
   "cell_type": "code",
   "execution_count": 5,
   "id": "9aeca7f8-b961-4ffc-b456-2503d338fcc4",
   "metadata": {},
   "outputs": [
    {
     "data": {
      "text/plain": [
       "26800609"
      ]
     },
     "execution_count": 5,
     "metadata": {},
     "output_type": "execute_result"
    }
   ],
   "source": [
    "######## Part 2 #############\n",
    "\n",
    "import collections\n",
    "\n",
    "# Write a function that calculates that similarity score for each number and compile a list of scores\n",
    "# check_list argument for the list with the numbers to check; match_list argument with the list of numbers that check_list checks against for similarity\n",
    "def calculate_similarity_score(check_list, match_list):\n",
    "    # Find the frequency of each number in the right list\n",
    "    frequency = collections.Counter(match_list)\n",
    "    similarity_score_list = []    # the list contains the similarity score for each number in check_list\n",
    "    # Calculate the similarity score for each number in check_list\n",
    "    for number in check_list:\n",
    "        if number in frequency.keys():\n",
    "            similarity = int(number) * frequency[number]\n",
    "            similarity_score_list.append(similarity)\n",
    "    return similarity_score_list\n",
    "\n",
    "# Calculate the sum of the similarity scores\n",
    "def calculate_total_score(score_list):\n",
    "    return sum(score_list)\n",
    "\n",
    "# Calculate similarity scores of left list and right list\n",
    "scores = calculate_similarity_score(left_list, right_list)\n",
    "\n",
    "# Calculate the sum of similarity scores\n",
    "calculate_total_score(scores)"
   ]
  },
  {
   "cell_type": "code",
   "execution_count": 24,
   "id": "66072741-da5f-42c5-955b-af0f9b7bd777",
   "metadata": {},
   "outputs": [
    {
     "data": {
      "text/plain": [
       "True"
      ]
     },
     "execution_count": 24,
     "metadata": {},
     "output_type": "execute_result"
    }
   ],
   "source": [
    "a = {'a':1, 'b':2, 'c':3}\n",
    "a.keys()\n",
    "\n",
    "'a' in a.keys()"
   ]
  }
 ],
 "metadata": {
  "kernelspec": {
   "display_name": "Python 3 (ipykernel)",
   "language": "python",
   "name": "python3"
  },
  "language_info": {
   "codemirror_mode": {
    "name": "ipython",
    "version": 3
   },
   "file_extension": ".py",
   "mimetype": "text/x-python",
   "name": "python",
   "nbconvert_exporter": "python",
   "pygments_lexer": "ipython3",
   "version": "3.12.7"
  }
 },
 "nbformat": 4,
 "nbformat_minor": 5
}
